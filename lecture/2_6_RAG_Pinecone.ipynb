{
  "nbformat": 4,
  "nbformat_minor": 0,
  "metadata": {
    "colab": {
      "provenance": [],
      "authorship_tag": "ABX9TyPCec0Bi8yDxiDAyKT5WtLu",
      "include_colab_link": true
    },
    "kernelspec": {
      "name": "python3",
      "display_name": "Python 3"
    },
    "language_info": {
      "name": "python"
    }
  },
  "cells": [
    {
      "cell_type": "markdown",
      "metadata": {
        "id": "view-in-github",
        "colab_type": "text"
      },
      "source": [
        "<a href=\"https://colab.research.google.com/github/takedatmh/toyama/blob/main/2_6_RAG_Pinecone.ipynb\" target=\"_parent\"><img src=\"https://colab.research.google.com/assets/colab-badge.svg\" alt=\"Open In Colab\"/></a>"
      ]
    },
    {
      "cell_type": "markdown",
      "source": [
        "# 2.6.1 Pineconeライブラリをインストール"
      ],
      "metadata": {
        "id": "esmyIZwM-7I7"
      }
    },
    {
      "cell_type": "code",
      "source": [
        "pip install pinecone"
      ],
      "metadata": {
        "colab": {
          "base_uri": "https://localhost:8080/"
        },
        "id": "txwxGYF97NS1",
        "outputId": "bb850e2b-d989-4725-f843-987a093ada17"
      },
      "execution_count": 12,
      "outputs": [
        {
          "output_type": "stream",
          "name": "stdout",
          "text": [
            "Requirement already satisfied: pinecone in /usr/local/lib/python3.11/dist-packages (6.0.2)\n",
            "Requirement already satisfied: certifi>=2019.11.17 in /usr/local/lib/python3.11/dist-packages (from pinecone) (2025.1.31)\n",
            "Requirement already satisfied: pinecone-plugin-interface<0.0.8,>=0.0.7 in /usr/local/lib/python3.11/dist-packages (from pinecone) (0.0.7)\n",
            "Requirement already satisfied: python-dateutil>=2.5.3 in /usr/local/lib/python3.11/dist-packages (from pinecone) (2.8.2)\n",
            "Requirement already satisfied: typing-extensions>=3.7.4 in /usr/local/lib/python3.11/dist-packages (from pinecone) (4.13.1)\n",
            "Requirement already satisfied: urllib3>=1.26.0 in /usr/local/lib/python3.11/dist-packages (from pinecone) (2.3.0)\n",
            "Requirement already satisfied: six>=1.5 in /usr/local/lib/python3.11/dist-packages (from python-dateutil>=2.5.3->pinecone) (1.17.0)\n"
          ]
        }
      ]
    },
    {
      "cell_type": "markdown",
      "source": [
        "# 2.6.2 API Keyの登録"
      ],
      "metadata": {
        "id": "kTRYqc7k_BDm"
      }
    },
    {
      "cell_type": "code",
      "source": [
        "from pinecone import Pinecone, ServerlessSpec\n",
        "#かっこの中は、小文字でAPI_KEY=\"****\"で書き直す\n",
        "pc = Pinecone(****=\"************\")"
      ],
      "metadata": {
        "id": "ul3ia2kr9Olm"
      },
      "execution_count": 13,
      "outputs": []
    },
    {
      "cell_type": "markdown",
      "source": [
        "# 2.6.3. Indexの作成"
      ],
      "metadata": {
        "id": "zGr6UcXm-z0a"
      }
    },
    {
      "cell_type": "code",
      "source": [
        "pc.create_index(\n",
        "    name=\"testindex\",\n",
        "    dimension=2,\n",
        "    metric=\"cosine\",\n",
        "    spec=ServerlessSpec(cloud=\"aws\", region=\"us-east-1\")\n",
        ")"
      ],
      "metadata": {
        "colab": {
          "base_uri": "https://localhost:8080/"
        },
        "id": "-U_nO2q_9fLd",
        "outputId": "cdbba280-32aa-4383-dd1f-e60e89fd9e98"
      },
      "execution_count": 26,
      "outputs": [
        {
          "output_type": "execute_result",
          "data": {
            "text/plain": [
              "{\n",
              "    \"name\": \"testindex\",\n",
              "    \"metric\": \"cosine\",\n",
              "    \"host\": \"testindex-knrej8u.svc.aped-4627-b74a.pinecone.io\",\n",
              "    \"spec\": {\n",
              "        \"serverless\": {\n",
              "            \"cloud\": \"aws\",\n",
              "            \"region\": \"us-east-1\"\n",
              "        }\n",
              "    },\n",
              "    \"status\": {\n",
              "        \"ready\": true,\n",
              "        \"state\": \"Ready\"\n",
              "    },\n",
              "    \"vector_type\": \"dense\",\n",
              "    \"dimension\": 2,\n",
              "    \"deletion_protection\": \"disabled\",\n",
              "    \"tags\": null\n",
              "}"
            ]
          },
          "metadata": {},
          "execution_count": 26
        }
      ]
    },
    {
      "cell_type": "markdown",
      "source": [
        "# 2.6.4 Pineconeアカウントに存在するIndexのリストアップ"
      ],
      "metadata": {
        "id": "9Hx9j8x7FfIh"
      }
    },
    {
      "cell_type": "code",
      "source": [
        "# インデックスのリストを取得取得\n",
        "pc.list_indexes()"
      ],
      "metadata": {
        "colab": {
          "base_uri": "https://localhost:8080/"
        },
        "id": "Hk0kU7QG-IVy",
        "outputId": "cb27ba94-572e-4d9f-c730-a081bc909692"
      },
      "execution_count": 27,
      "outputs": [
        {
          "output_type": "execute_result",
          "data": {
            "text/plain": [
              "[\n",
              "    {\n",
              "        \"name\": \"testindex\",\n",
              "        \"metric\": \"cosine\",\n",
              "        \"host\": \"testindex-knrej8u.svc.aped-4627-b74a.pinecone.io\",\n",
              "        \"spec\": {\n",
              "            \"serverless\": {\n",
              "                \"cloud\": \"aws\",\n",
              "                \"region\": \"us-east-1\"\n",
              "            }\n",
              "        },\n",
              "        \"status\": {\n",
              "            \"ready\": true,\n",
              "            \"state\": \"Ready\"\n",
              "        },\n",
              "        \"vector_type\": \"dense\",\n",
              "        \"dimension\": 2,\n",
              "        \"deletion_protection\": \"disabled\",\n",
              "        \"tags\": null\n",
              "    },\n",
              "    {\n",
              "        \"name\": \"newindex\",\n",
              "        \"metric\": \"cosine\",\n",
              "        \"host\": \"newindex-knrej8u.svc.aped-4627-b74a.pinecone.io\",\n",
              "        \"spec\": {\n",
              "            \"serverless\": {\n",
              "                \"cloud\": \"aws\",\n",
              "                \"region\": \"us-east-1\"\n",
              "            }\n",
              "        },\n",
              "        \"status\": {\n",
              "            \"ready\": true,\n",
              "            \"state\": \"Ready\"\n",
              "        },\n",
              "        \"vector_type\": \"dense\",\n",
              "        \"dimension\": 1536,\n",
              "        \"deletion_protection\": \"disabled\",\n",
              "        \"tags\": null\n",
              "    },\n",
              "    {\n",
              "        \"name\": \"secondindex\",\n",
              "        \"metric\": \"cosine\",\n",
              "        \"host\": \"secondindex-knrej8u.svc.aped-4627-b74a.pinecone.io\",\n",
              "        \"spec\": {\n",
              "            \"serverless\": {\n",
              "                \"cloud\": \"aws\",\n",
              "                \"region\": \"us-east-1\"\n",
              "            }\n",
              "        },\n",
              "        \"status\": {\n",
              "            \"ready\": true,\n",
              "            \"state\": \"Ready\"\n",
              "        },\n",
              "        \"vector_type\": \"dense\",\n",
              "        \"dimension\": 1536,\n",
              "        \"deletion_protection\": \"disabled\",\n",
              "        \"tags\": null\n",
              "    },\n",
              "    {\n",
              "        \"name\": \"myindex\",\n",
              "        \"metric\": \"dotproduct\",\n",
              "        \"host\": \"myindex-knrej8u.svc.aped-4627-b74a.pinecone.io\",\n",
              "        \"spec\": {\n",
              "            \"serverless\": {\n",
              "                \"cloud\": \"aws\",\n",
              "                \"region\": \"us-east-1\"\n",
              "            }\n",
              "        },\n",
              "        \"status\": {\n",
              "            \"ready\": true,\n",
              "            \"state\": \"Ready\"\n",
              "        },\n",
              "        \"vector_type\": \"sparse\",\n",
              "        \"dimension\": null,\n",
              "        \"deletion_protection\": \"disabled\",\n",
              "        \"tags\": null,\n",
              "        \"embed\": {\n",
              "            \"model\": \"pinecone-sparse-english-v0\",\n",
              "            \"field_map\": {\n",
              "                \"text\": \"text\"\n",
              "            },\n",
              "            \"metric\": \"dotproduct\",\n",
              "            \"write_parameters\": {\n",
              "                \"input_type\": \"passage\",\n",
              "                \"truncate\": \"END\"\n",
              "            },\n",
              "            \"read_parameters\": {\n",
              "                \"input_type\": \"query\",\n",
              "                \"truncate\": \"END\"\n",
              "            },\n",
              "            \"vector_type\": \"sparse\"\n",
              "        }\n",
              "    }\n",
              "]"
            ]
          },
          "metadata": {},
          "execution_count": 27
        }
      ]
    },
    {
      "cell_type": "markdown",
      "source": [
        "#2.6.5 インデックスに接続"
      ],
      "metadata": {
        "id": "gg9nkWxPFpWL"
      }
    },
    {
      "cell_type": "code",
      "source": [
        "index = pc.Index(\"testindex\")"
      ],
      "metadata": {
        "id": "k5RsTLdfDLTx"
      },
      "execution_count": 28,
      "outputs": []
    },
    {
      "cell_type": "markdown",
      "source": [
        "#2.6.6 データの挿入"
      ],
      "metadata": {
        "id": "EN1__klAFv1-"
      }
    },
    {
      "cell_type": "code",
      "source": [
        "index.upsert(\n",
        "    vectors=[\n",
        "        {\n",
        "            \"id\": \"vec1\",\n",
        "            \"values\": [1.0, 1.5],\n",
        "            \"metadata\": {\"genre\": \"drama\"}\n",
        "        }, {\n",
        "            \"id\": \"vec2\",\n",
        "            \"values\": [2.0, 1.0],\n",
        "            \"metadata\": {\"genre\": \"action\"}\n",
        "        }, {\n",
        "            \"id\": \"vec3\",\n",
        "            \"values\": [0.1, 0.3],\n",
        "            \"metadata\": {\"genre\": \"drama\"}\n",
        "        }, {\n",
        "            \"id\": \"vec4\",\n",
        "            \"values\": [1.0, -2.5],\n",
        "            \"metadata\": {\"genre\": \"action\"}\n",
        "        }\n",
        "    ],\n",
        "    namespace= \"ns1\"\n",
        ")"
      ],
      "metadata": {
        "colab": {
          "base_uri": "https://localhost:8080/"
        },
        "id": "3hnFHFhoDqz4",
        "outputId": "6666c32b-4828-4bf3-ec05-9716960f54a4"
      },
      "execution_count": 29,
      "outputs": [
        {
          "output_type": "execute_result",
          "data": {
            "text/plain": [
              "{'upserted_count': 4}"
            ]
          },
          "metadata": {},
          "execution_count": 29
        }
      ]
    },
    {
      "cell_type": "markdown",
      "source": [
        "# 2.6.7 クエリの実行"
      ],
      "metadata": {
        "id": "Z3dQg_IEF00r"
      }
    },
    {
      "cell_type": "code",
      "source": [
        "response = index.query(\n",
        "    namespace=\"ns1\",\n",
        "    vector=[0.1, 0.3],\n",
        "    top_k=2,\n",
        "    include_values=True,\n",
        "    include_metadata=True,\n",
        "    filter={\"genre\": {\"$eq\": \"action\"}}\n",
        ")\n",
        "\n",
        "print(response)"
      ],
      "metadata": {
        "colab": {
          "base_uri": "https://localhost:8080/"
        },
        "id": "BpiV3_n9E6Wj",
        "outputId": "ac995a1f-b8e9-4428-eba1-385ca1b9b0ab"
      },
      "execution_count": 30,
      "outputs": [
        {
          "output_type": "stream",
          "name": "stdout",
          "text": [
            "{'matches': [{'id': 'vec2',\n",
            "              'metadata': {'genre': 'action'},\n",
            "              'score': 0.707106769,\n",
            "              'values': [2.0, 1.0]},\n",
            "             {'id': 'vec4',\n",
            "              'metadata': {'genre': 'action'},\n",
            "              'score': -0.763386309,\n",
            "              'values': [1.0, -2.5]}],\n",
            " 'namespace': 'ns1',\n",
            " 'usage': {'read_units': 1}}\n"
          ]
        }
      ]
    }
  ]
}
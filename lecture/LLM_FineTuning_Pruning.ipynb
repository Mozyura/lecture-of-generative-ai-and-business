{
  "cells": [
    {
      "cell_type": "markdown",
      "metadata": {
        "id": "view-in-github",
        "colab_type": "text"
      },
      "source": [
        "<a href=\"https://colab.research.google.com/github/takedatmh/toyama/blob/main/LLM_FineTuning_Pruning.ipynb\" target=\"_parent\"><img src=\"https://colab.research.google.com/assets/colab-badge.svg\" alt=\"Open In Colab\"/></a>"
      ]
    },
    {
      "cell_type": "markdown",
      "metadata": {
        "id": "PetUjwLm9Ow7"
      },
      "source": [
        "#1 PyTorch による簡単なPruning例\n",
        "\n",
        "## 4Layer-4Nodeの全結合のNNを作成して、20%の重みを削減"
      ]
    },
    {
      "cell_type": "code",
      "execution_count": null,
      "metadata": {
        "colab": {
          "base_uri": "https://localhost:8080/"
        },
        "id": "pitVP-Zs853J",
        "outputId": "d7b49b61-4130-408a-a14b-5e41b97c022d"
      },
      "outputs": [
        {
          "name": "stdout",
          "output_type": "stream",
          "text": [
            "元の重み：\n",
            " Parameter containing:\n",
            "tensor([[-0.1953,  0.2235, -0.2818,  0.3118],\n",
            "        [-0.4003, -0.0103, -0.2247,  0.1838],\n",
            "        [ 0.4612, -0.0449,  0.0671, -0.4195],\n",
            "        [ 0.4052,  0.1646, -0.1446, -0.1698]], requires_grad=True)\n",
            "プルーニング後の重み：\n",
            " tensor([[-0.1953,  0.2235, -0.2818,  0.3118],\n",
            "        [-0.4003, -0.0000, -0.2247,  0.1838],\n",
            "        [ 0.4612, -0.0000,  0.0000, -0.4195],\n",
            "        [ 0.4052,  0.1646, -0.1446, -0.1698]], grad_fn=<MulBackward0>)\n",
            "マスク：\n",
            " tensor([[1., 1., 1., 1.],\n",
            "        [1., 0., 1., 1.],\n",
            "        [1., 0., 0., 1.],\n",
            "        [1., 1., 1., 1.]])\n"
          ]
        }
      ],
      "source": [
        "import torch\n",
        "import torch.nn.utils.prune as prune\n",
        "import torch.nn as nn\n",
        "\n",
        "# 線形層の定義\n",
        "linear = nn.Linear(4, 4)\n",
        "print(\"元の重み：\\n\", linear.weight)\n",
        "\n",
        "# Magnitude pruning: 重みの20%を間引く\n",
        "prune.l1_unstructured(linear, name=\"weight\", amount=0.2)\n",
        "print(\"プルーニング後の重み：\\n\", linear.weight)\n",
        "\n",
        "# 実際にゼロ化された部分のマスクも確認\n",
        "print(\"マスク：\\n\", linear.weight_mask)\n"
      ]
    },
    {
      "cell_type": "markdown",
      "metadata": {
        "id": "Ceeo0hvB9k_L"
      },
      "source": [
        "#2  Hugging Faceモデルでの例（LLaMA系）"
      ]
    },
    {
      "cell_type": "code",
      "execution_count": null,
      "metadata": {
        "colab": {
          "base_uri": "https://localhost:8080/",
          "height": 237,
          "referenced_widgets": [
            "1d71ca3cb02943c9911d2a8d3e5fc3d4",
            "ba91025e239e4b039fe6cf8cfe344571",
            "0b5d436146af4bd9a204ad42e24b75eb",
            "167b99889523455d9eec2fa7364002d8",
            "5eb3f36192134419872ad4ff927bae5e",
            "85dae1c2bec14e1eb0a1028a0c1ec9e3",
            "49a441c106bb439b8ab55d1683d5562d",
            "2e6f711cc5fd465db8e3d0a738781d05",
            "235bc6b33f584cdab963d77e25f14a10",
            "c2571dfb4b9c407e83bf209284565fd2",
            "bcc141bf0b0946dfbb5e78a640923f19",
            "072f5fb1964a4d26ab4cf6856e0c7e91",
            "d490eb035e6f4a149c62354f9c210f86",
            "5c3e3980e29c4546a9d1ccc307d376e1",
            "a8c63aacd8574f8895ac1f6aa65d691b",
            "3bcd514531604892b1e697d9a44e5e90",
            "000ff98fc83744c5962d384874bb7899",
            "c8678a5f2dc045b7bd375f0274188d14",
            "3bb8386dca514ab59bd31172c90be9af",
            "0b3cbe0e6a564b9e9610820638094381",
            "6502278130064065b24692cf711b22d0",
            "6110181606804f9b90e4434af6617655",
            "3a2b5086496e4cc2b7e65b9fec9092aa",
            "4c078e85db1d4402b86084a0f65c3eec",
            "fd7ba32fd8914a94aec7e4b1795ea339",
            "e7a040e3c8b044e78f5ab254fd652099",
            "2966392de8f449cbaad781811abfab76",
            "4db88ee751624891ab7be6c07fc6b4fb",
            "25770b58c7c6430e92b90ec14e1d2258",
            "def917bc62994bbd8851b2325ce31fa0",
            "48c0374779a2423c932332fbcc066fd0",
            "c11c96b48c36490687584b99b665c44c",
            "adfb5e9618df45a19d609d7343fd0d4f"
          ]
        },
        "id": "gh0ATS4a9rjZ",
        "outputId": "7eeaba29-9286-4ceb-8198-bc668cacd29a"
      },
      "outputs": [
        {
          "name": "stderr",
          "output_type": "stream",
          "text": [
            "/usr/local/lib/python3.11/dist-packages/huggingface_hub/utils/_auth.py:94: UserWarning: \n",
            "The secret `HF_TOKEN` does not exist in your Colab secrets.\n",
            "To authenticate with the Hugging Face Hub, create a token in your settings tab (https://huggingface.co/settings/tokens), set it as secret in your Google Colab and restart your session.\n",
            "You will be able to reuse this secret in all of your notebooks.\n",
            "Please note that authentication is recommended but still optional to access public models or datasets.\n",
            "  warnings.warn(\n"
          ]
        },
        {
          "data": {
            "application/vnd.jupyter.widget-view+json": {
              "model_id": "1d71ca3cb02943c9911d2a8d3e5fc3d4",
              "version_major": 2,
              "version_minor": 0
            },
            "text/plain": [
              "config.json:   0%|          | 0.00/608 [00:00<?, ?B/s]"
            ]
          },
          "metadata": {},
          "output_type": "display_data"
        },
        {
          "data": {
            "application/vnd.jupyter.widget-view+json": {
              "model_id": "072f5fb1964a4d26ab4cf6856e0c7e91",
              "version_major": 2,
              "version_minor": 0
            },
            "text/plain": [
              "model.safetensors:   0%|          | 0.00/2.20G [00:00<?, ?B/s]"
            ]
          },
          "metadata": {},
          "output_type": "display_data"
        },
        {
          "data": {
            "application/vnd.jupyter.widget-view+json": {
              "model_id": "3a2b5086496e4cc2b7e65b9fec9092aa",
              "version_major": 2,
              "version_minor": 0
            },
            "text/plain": [
              "generation_config.json:   0%|          | 0.00/124 [00:00<?, ?B/s]"
            ]
          },
          "metadata": {},
          "output_type": "display_data"
        }
      ],
      "source": [
        "from transformers import AutoModelForCausalLM\n",
        "\n",
        "model = AutoModelForCausalLM.from_pretrained(\"TinyLlama/TinyLlama-1.1B-Chat-v1.0\")\n"
      ]
    },
    {
      "cell_type": "markdown",
      "metadata": {
        "id": "1SAH5AogBSNS"
      },
      "source": [
        "## 2.1 Pruningの可視化(Before Pruning)"
      ]
    },
    {
      "cell_type": "code",
      "execution_count": null,
      "metadata": {
        "colab": {
          "base_uri": "https://localhost:8080/",
          "height": 472
        },
        "id": "WCbi7hTsBEoI",
        "outputId": "86215332-859e-4335-99c0-a1c13f5db935"
      },
      "outputs": [
        {
          "data": {
            "image/png": "[encoded data removed]",
            "text/plain": [
              "<Figure size 640x480 with 1 Axes>"
            ]
          },
          "metadata": {},
          "output_type": "display_data"
        }
      ],
      "source": [
        "import torch\n",
        "import torch.nn.utils.prune as prune\n",
        "import torch.nn as nn\n",
        "import matplotlib.pyplot as plt\n",
        "\n",
        "# 例: 1層目のLinear層の重み分布\n",
        "layer = next(module for name, module in model.named_modules() if isinstance(module, nn.Linear))\n",
        "weights = layer.weight.detach().cpu().numpy().flatten()\n",
        "\n",
        "plt.hist(weights, bins=50, color=\"skyblue\")\n",
        "plt.title(\"Linear Layer Wait(After Pruning)\")\n",
        "plt.xlabel(\"Value of Wait\")\n",
        "plt.ylabel(\"Frequency\")\n",
        "plt.show()"
      ]
    },
    {
      "cell_type": "markdown",
      "metadata": {
        "id": "OMMBQWvI-goO"
      },
      "source": [
        "##2.2 線形層に対して一括でプルーニング"
      ]
    },
    {
      "cell_type": "code",
      "execution_count": null,
      "metadata": {
        "id": "akVMxf8091P5"
      },
      "outputs": [],
      "source": [
        "import torch\n",
        "import torch.nn.utils.prune as prune\n",
        "\n",
        "# モデル内の全てのLinear層にpruningを適用\n",
        "for name, module in model.named_modules():\n",
        "    if isinstance(module, torch.nn.Linear):\n",
        "        prune.l1_unstructured(module, name=\"weight\", amount=0.2)"
      ]
    },
    {
      "cell_type": "markdown",
      "metadata": {
        "id": "6C-CF_Fg95_1"
      },
      "source": [
        "##2.3 プルーニングの可視化例(After Pruning)"
      ]
    },
    {
      "cell_type": "code",
      "execution_count": null,
      "metadata": {
        "colab": {
          "base_uri": "https://localhost:8080/",
          "height": 576
        },
        "id": "j2icLTzx98bt",
        "outputId": "7afc2fed-8cc6-435b-df79-5a12d9f3016e"
      },
      "outputs": [
        {
          "name": "stdout",
          "output_type": "stream",
          "text": [
            "Before Pruning:\n",
            " Parameter containing:\n",
            "tensor([[ 0.0471,  0.3095, -0.2609,  0.2869],\n",
            "        [-0.0892,  0.1120, -0.4272, -0.3026],\n",
            "        [ 0.2901,  0.0663, -0.3458, -0.0261],\n",
            "        [ 0.4006, -0.1056,  0.4636,  0.3479]], requires_grad=True)\n"
          ]
        },
        {
          "data": {
            "image/png": "[encoded data removed]",
            "text/plain": [
              "<Figure size 640x480 with 1 Axes>"
            ]
          },
          "metadata": {},
          "output_type": "display_data"
        }
      ],
      "source": [
        "import torch\n",
        "import torch.nn.utils.prune as prune\n",
        "import torch.nn as nn\n",
        "import matplotlib.pyplot as plt\n",
        "\n",
        "# 例: 適当なLinear層\n",
        "linear = nn.Linear(4, 4)\n",
        "print(\"Before Pruning:\\n\", linear.weight)\n",
        "\n",
        "# Pruning適用\n",
        "prune.l1_unstructured(linear, name=\"weight\", amount=0.5)\n",
        "\n",
        "# 【ポイント】Pruning後の実際の重み行列（= weight_orig * weight_mask）\n",
        "pruned_weights = linear.weight_orig * linear.weight_mask\n",
        "pruned_weights_flat = pruned_weights.detach().cpu().numpy().flatten()\n",
        "\n",
        "# 可視化\n",
        "plt.hist(pruned_weights_flat, bins=20, color=\"skyblue\")\n",
        "plt.title(\"Pruned Linear Layer Weights\")\n",
        "plt.xlabel(\"Weight Value\")\n",
        "plt.ylabel(\"Frequency\")\n",
        "plt.show()\n"
      ]
    },
    {
      "cell_type": "code",
      "execution_count": null,
      "metadata": {
        "id": "xNqNBz_D9-Pn"
      },
      "outputs": [],
      "source": []
    }
  ],
  "metadata": {
    "accelerator": "GPU",
    "colab": {
      "gpuType": "T4",
      "machine_shape": "hm",
      "provenance": [],
      "authorship_tag": "ABX9TyOcQDmSbB7VmgFA4v3V6VCl",
      "include_colab_link": true
    },
    "kernelspec": {
      "display_name": "Python 3",
      "name": "python3"
    },
    "language_info": {
      "name": "python"
    }
  },
  "nbformat": 4,
  "nbformat_minor": 0
}